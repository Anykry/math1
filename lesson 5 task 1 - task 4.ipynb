{
 "cells": [
  {
   "cell_type": "code",
   "execution_count": 69,
   "id": "61ec4711",
   "metadata": {},
   "outputs": [],
   "source": [
    "%matplotlib inline\n",
    "import numpy as np\n",
    "import matplotlib.pyplot as plt\n",
    "import matplotlib.mlab as mlab\n",
    "from scipy.stats import norm \n",
    "import math"
   ]
  },
  {
   "cell_type": "code",
   "execution_count": 2,
   "id": "49e0a1fb",
   "metadata": {},
   "outputs": [
    {
     "name": "stdout",
     "output_type": "stream",
     "text": [
      "0.4864864864864865 0.4864864864864865 0.02702702702702703\n",
      "0.32432432432432434\n"
     ]
    }
   ],
   "source": [
    "#казино\n",
    "#18 красных, 18 черных, зеро\n",
    "\n",
    "probability = 18 + 18 + 1\n",
    "p_red = 18/probability #вероятность выпадания красного\n",
    "p_black = 18/probability #вероятность выпадания черного\n",
    "p_zero = 1/probability #вероятность выпадания зеро\n",
    "\n",
    "print(p_red, p_black, p_zero)\n",
    "\n",
    "dozen = 12/37 #вероятность выпадания интервала дюжины\n",
    "print(dozen)"
   ]
  },
  {
   "cell_type": "code",
   "execution_count": 83,
   "id": "0a829678",
   "metadata": {},
   "outputs": [
    {
     "data": {
      "image/png": "[encoded data removed]",
      "text/plain": [
       "<Figure size 432x288 with 1 Axes>"
      ]
     },
     "metadata": {
      "needs_background": "light"
     },
     "output_type": "display_data"
    }
   ],
   "source": [
    "x = []\n",
    "x = np.random.normal(0, 1, 1000)\n",
    "n, bins, patched = plt.hist(x, 50)\n",
    "\n",
    "plt.xlabel('x')\n",
    "plt.ylabel('Probability')\n",
    "plt.title('Histogram')\n",
    "plt.show()"
   ]
  },
  {
   "cell_type": "code",
   "execution_count": 94,
   "id": "618f2a38",
   "metadata": {},
   "outputs": [
    {
     "name": "stdout",
     "output_type": "stream",
     "text": [
      "6.0\n",
      "0.375\n"
     ]
    }
   ],
   "source": [
    "#n - кол-во испытаний\n",
    "#k - кол-во успехов\n",
    "\n",
    "n = 4\n",
    "k = 2\n",
    "c_nk = math.factorial(n)/(math.factorial(k)*math.factorial(n-k))\n",
    "print(c_nk)\n",
    "p=0.5\n",
    "q=0.5\n",
    "p=c_nk*(p**k)*(q**(n-k))\n",
    "print(p)"
   ]
  },
  {
   "cell_type": "code",
   "execution_count": 117,
   "id": "a3c58ac2",
   "metadata": {},
   "outputs": [
    {
     "name": "stdout",
     "output_type": "stream",
     "text": [
      "[[1.         0.67011915]\n",
      " [0.67011915 1.        ]]\n",
      "0.6701191508784432\n"
     ]
    },
    {
     "data": {
      "image/png": "[encoded data removed]",
      "text/plain": [
       "<Figure size 432x288 with 1 Axes>"
      ]
     },
     "metadata": {
      "needs_background": "light"
     },
     "output_type": "display_data"
    }
   ],
   "source": [
    "n = 100\n",
    "r = 0.5\n",
    "x = np.random.rand(n)\n",
    "y = r*x + (1-r)*np.random.rand(n)\n",
    "\n",
    "a = (np.sum(x)*np.sum(y) - n*np.sum(x*y))/(np.sum(x)*np.sum(x)-n*np.sum(x*x))\n",
    "b = (np.sum(y) - a*np.sum(x))/n\n",
    "\n",
    "\n",
    "xm = np.mean(x)\n",
    "ym = np.mean(y)\n",
    "\n",
    "r = (np.sum((x-xm)*(y-ym)))/math.sqrt(np.sum((x-xm)**2)*np.sum((y-ym)**2))\n",
    "\n",
    "c = np.corrcoef(x, y)\n",
    "\n",
    "print(c)\n",
    "print(r)\n",
    "\n",
    "#print(a,b)\n",
    "\n",
    "plt.plot(x,y,'o')\n",
    "plt.plot([0, 1],[b, a+b])\n",
    "\n",
    "plt.grid(True)\n",
    "plt.xlabel('x')\n",
    "plt.ylabel('y')\n",
    "plt.show()\n"
   ]
  },
  {
   "cell_type": "code",
   "execution_count": null,
   "id": "a8ee18cd",
   "metadata": {},
   "outputs": [],
   "source": []
  }
 ],
 "metadata": {
  "kernelspec": {
   "display_name": "Python 3 (ipykernel)",
   "language": "python",
   "name": "python3"
  },
  "language_info": {
   "codemirror_mode": {
    "name": "ipython",
    "version": 3
   },
   "file_extension": ".py",
   "mimetype": "text/x-python",
   "name": "python",
   "nbconvert_exporter": "python",
   "pygments_lexer": "ipython3",
   "version": "3.9.6"
  }
 },
 "nbformat": 4,
 "nbformat_minor": 5
}
