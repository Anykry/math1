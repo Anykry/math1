{
 "cells": [
  {
   "cell_type": "code",
   "execution_count": 13,
   "id": "cfc05de2",
   "metadata": {},
   "outputs": [],
   "source": [
    "import numpy as np\n",
    "import itertools"
   ]
  },
  {
   "cell_type": "code",
   "execution_count": 4,
   "id": "3718cbea",
   "metadata": {},
   "outputs": [
    {
     "name": "stdout",
     "output_type": "stream",
     "text": [
      "Вероятность выпадания числа 2 или 5 P = 0.3333333333333333\n"
     ]
    }
   ],
   "source": [
    "#Task 1\n",
    "p1 = 1/6 #вероятность выпадания любого числа на кубике\n",
    "p = p1 + p1 #сложения вероятностей\n",
    "\n",
    "print('Вероятность выпадания числа 2 или 5 P = '+str(p))"
   ]
  },
  {
   "cell_type": "code",
   "execution_count": 6,
   "id": "d2294ffd",
   "metadata": {},
   "outputs": [
    {
     "name": "stdout",
     "output_type": "stream",
     "text": [
      "Вероятность выпадания числа 2, а затем 5 P = 0.027777777777777776\n"
     ]
    }
   ],
   "source": [
    "#Task 2\n",
    "p1 = 1/6\n",
    "p = p1 * p1\n",
    "\n",
    "print('Вероятность выпадания числа 2, а затем 5 P = '+str(p))"
   ]
  },
  {
   "cell_type": "code",
   "execution_count": 20,
   "id": "9d3250cb",
   "metadata": {},
   "outputs": [
    {
     "name": "stdout",
     "output_type": "stream",
     "text": [
      "Вероятность выпадания 1 и 1 за 2 броска кубика P = 0.027777777777777776\n",
      "Вероятность выпадания 3+2 или 4+1 за 2 броска кубика P = 0.05555555555555555\n"
     ]
    }
   ],
   "source": [
    "#Task 3\n",
    "#1+1, \n",
    "p = 1/6 * 1/6\n",
    "print('Вероятность выпадания 1 и 1 за 2 броска кубика P = '+str(p))\n",
    "\n",
    "#3+2\n",
    "#4+1\n",
    "p = 1/6*1/6 + 1/6*1/6\n",
    "print('Вероятность выпадания 3+2 или 4+1 за 2 броска кубика P = '+str(p))"
   ]
  },
  {
   "cell_type": "code",
   "execution_count": 12,
   "id": "fd87b641",
   "metadata": {},
   "outputs": [
    {
     "name": "stdout",
     "output_type": "stream",
     "text": [
      "Вероятность выпадения точки на отрезке P = 0.2\n"
     ]
    }
   ],
   "source": [
    "#Task 4\n",
    "l = 9 - (20 - 15) \n",
    "p = l / 20\n",
    "\n",
    "print('Вероятность выпадения точки на отрезке P = '+str(p))"
   ]
  },
  {
   "cell_type": "code",
   "execution_count": 11,
   "id": "b2bb8518",
   "metadata": {},
   "outputs": [
    {
     "name": "stdout",
     "output_type": "stream",
     "text": [
      "Вероятность номера телефона P = 1e-07\n"
     ]
    }
   ],
   "source": [
    "#Task 5\n",
    "p = 1/(10**7)\n",
    "\n",
    "print('Вероятность номера телефона P = ' + str(p))"
   ]
  },
  {
   "cell_type": "code",
   "execution_count": 19,
   "id": "9617a89a",
   "metadata": {},
   "outputs": [
    {
     "name": "stdout",
     "output_type": "stream",
     "text": [
      "Перебарть вариантов: 72. Вероятность P = 0.013888888888888888\n"
     ]
    }
   ],
   "source": [
    "#Task 6\n",
    "c = 9 * 8\n",
    "p = 1/c\n",
    "\n",
    "print('Перебарть вариантов: ' + str(c)+ '. Вероятность P = '+str(p))"
   ]
  },
  {
   "cell_type": "code",
   "execution_count": null,
   "id": "3053ec6e",
   "metadata": {},
   "outputs": [],
   "source": []
  }
 ],
 "metadata": {
  "kernelspec": {
   "display_name": "Python 3 (ipykernel)",
   "language": "python",
   "name": "python3"
  },
  "language_info": {
   "codemirror_mode": {
    "name": "ipython",
    "version": 3
   },
   "file_extension": ".py",
   "mimetype": "text/x-python",
   "name": "python",
   "nbconvert_exporter": "python",
   "pygments_lexer": "ipython3",
   "version": "3.9.6"
  }
 },
 "nbformat": 4,
 "nbformat_minor": 5
}
